{
  "nbformat": 4,
  "nbformat_minor": 0,
  "metadata": {
    "colab": {
      "name": "10 Monkey Species Classification.ipynb",
      "provenance": [],
      "collapsed_sections": [],
      "include_colab_link": true
    },
    "kernelspec": {
      "name": "python3",
      "display_name": "Python 3"
    },
    "accelerator": "GPU"
  },
  "cells": [
    {
      "cell_type": "markdown",
      "metadata": {
        "id": "view-in-github",
        "colab_type": "text"
      },
      "source": [
        "<a href=\"https://colab.research.google.com/github/theroyakash/MonkeyNet/blob/master/10%20Monkey%20Species%20Classification.ipynb\" target=\"_parent\"><img src=\"https://colab.research.google.com/assets/colab-badge.svg\" alt=\"Open In Colab\"/></a>"
      ]
    },
    {
      "cell_type": "markdown",
      "metadata": {
        "id": "vdhr7n1lpzzy",
        "colab_type": "text"
      },
      "source": [
        "# 10 Monkey classification with custom DNN Architecture"
      ]
    },
    {
      "cell_type": "markdown",
      "metadata": {
        "id": "DMnqjJP5qZCy",
        "colab_type": "text"
      },
      "source": [
        "Setting Operating System Variable 'KAGGLE_USERNAME' as theroyakash\n",
        "\n",
        "You can download your 'KAGGLE_KEY' from kaggle's account settngs"
      ]
    },
    {
      "cell_type": "code",
      "metadata": {
        "id": "ZZfGpsbHruSL",
        "colab_type": "code",
        "colab": {}
      },
      "source": [
        "import os\n",
        "os.environ['KAGGLE_USERNAME'] = \"theroyakash\"\n",
        "os.environ['KAGGLE_KEY'] = \"0c952bf9d48e02510ca5a7b61823f49b\""
      ],
      "execution_count": 0,
      "outputs": []
    },
    {
      "cell_type": "code",
      "metadata": {
        "id": "4AynwKCZsCP4",
        "colab_type": "code",
        "outputId": "a37ee8f4-4ff8-48d7-b8e6-70b7976fbb8f",
        "colab": {
          "base_uri": "https://localhost:8080/",
          "height": 70
        }
      },
      "source": [
        "!kaggle datasets download -d slothkong/10-monkey-species"
      ],
      "execution_count": 2,
      "outputs": [
        {
          "output_type": "stream",
          "text": [
            "Downloading 10-monkey-species.zip to /content\n",
            " 98% 537M/547M [00:07<00:00, 52.6MB/s]\n",
            "100% 547M/547M [00:07<00:00, 74.1MB/s]\n"
          ],
          "name": "stdout"
        }
      ]
    },
    {
      "cell_type": "code",
      "metadata": {
        "id": "oFjHOTWtsGea",
        "colab_type": "code",
        "outputId": "65ad1e8f-632a-401a-b726-166a4fc1ed44",
        "colab": {
          "base_uri": "https://localhost:8080/",
          "height": 34
        }
      },
      "source": [
        "!ls"
      ],
      "execution_count": 3,
      "outputs": [
        {
          "output_type": "stream",
          "text": [
            "10-monkey-species.zip  sample_data\n"
          ],
          "name": "stdout"
        }
      ]
    },
    {
      "cell_type": "code",
      "metadata": {
        "id": "YHRZLOHusRDk",
        "colab_type": "code",
        "colab": {}
      },
      "source": [
        "from zipfile import ZipFile\n",
        "\n",
        "with ZipFile('10-monkey-species.zip', 'r') as zipObj:\n",
        "   # Extract all the contents of zip file in current directory\n",
        "   zipObj.extractall()"
      ],
      "execution_count": 0,
      "outputs": []
    },
    {
      "cell_type": "code",
      "metadata": {
        "id": "xHR6h9UEsYGS",
        "colab_type": "code",
        "outputId": "9d54e57f-4de7-4394-bfaf-0bbf650cb346",
        "colab": {
          "base_uri": "https://localhost:8080/",
          "height": 34
        }
      },
      "source": [
        "!ls"
      ],
      "execution_count": 5,
      "outputs": [
        {
          "output_type": "stream",
          "text": [
            "10-monkey-species.zip  monkey_labels.txt  sample_data  training  validation\n"
          ],
          "name": "stdout"
        }
      ]
    },
    {
      "cell_type": "code",
      "metadata": {
        "id": "9-Yr-nqAsrA9",
        "colab_type": "code",
        "colab": {}
      },
      "source": [
        "import numpy as np\n",
        "import pandas as pd\n",
        "import tensorflow as tf\n",
        "from tensorflow import keras\n",
        "from tensorflow.keras.preprocessing.image import ImageDataGenerator\n",
        "from tensorflow.keras.layers import Input, Conv2D, MaxPooling2D, GlobalAveragePooling2D, BatchNormalization\n",
        "from tensorflow.keras.layers import Dense, Dropout, Flatten, Activation, Concatenate, Lambda\n",
        "from tensorflow.keras.models import Model\n",
        "from tensorflow.keras.callbacks import EarlyStopping, ReduceLROnPlateau, ModelCheckpoint\n",
        "from tensorflow.keras.optimizers import Adam\n",
        "from tensorflow.keras import regularizers, activations\n",
        "from matplotlib import pyplot as plt"
      ],
      "execution_count": 0,
      "outputs": []
    },
    {
      "cell_type": "code",
      "metadata": {
        "id": "OfrTtUmFYWcV",
        "colab_type": "code",
        "colab": {}
      },
      "source": [
        "# print(\"Tensorflow version \" + tf.__version__)\n",
        "\n",
        "# try:\n",
        "#   tpu = tf.distribute.cluster_resolver.TPUClusterResolver()  # TPU detection\n",
        "#   print('Running on TPU ', tpu.cluster_spec().as_dict()['worker'])\n",
        "# except ValueError:\n",
        "#   raise BaseException('ERROR: Not connected to a TPU runtime; please see the previous cell in this notebook for instructions!')"
      ],
      "execution_count": 0,
      "outputs": []
    },
    {
      "cell_type": "code",
      "metadata": {
        "id": "I_Jc6quIs9x7",
        "colab_type": "code",
        "colab": {}
      },
      "source": [
        "training_datadir = '/content/training/training/'\n",
        "validation_datadir = '/content/validation/validation/'\n",
        "labels_path = '/content/monkey_labels.txt'"
      ],
      "execution_count": 0,
      "outputs": []
    },
    {
      "cell_type": "code",
      "metadata": {
        "id": "fv-FwwTKtbJR",
        "colab_type": "code",
        "outputId": "273abbfd-5ffe-416d-92c8-41248381e264",
        "colab": {
          "base_uri": "https://localhost:8080/",
          "height": 443
        }
      },
      "source": [
        "f = open(\"monkey_labels.txt\", \"r\")\n",
        "print(f.read())"
      ],
      "execution_count": 9,
      "outputs": [
        {
          "output_type": "stream",
          "text": [
            "Label,  Latin Name           , Common Name                   , Train Images , Validation Images\n",
            "n0   , alouatta_palliata\t , mantled_howler                , 131          , 26\n",
            "n1   , erythrocebus_patas\t , patas_monkey                  , 139          , 28\n",
            "n2   , cacajao_calvus\t     , bald_uakari                   , 137          , 27\n",
            "n3   , macaca_fuscata\t     , japanese_macaque              , 152          , 30\n",
            "n4   , cebuella_pygmea\t     , pygmy_marmoset                , 131          , 26\n",
            "n5   , cebus_capucinus\t     , white_headed_capuchin         , 141          , 28\n",
            "n6   , mico_argentatus\t     , silvery_marmoset              , 132          , 26\n",
            "n7   , saimiri_sciureus\t     , common_squirrel_monkey        , 142          , 28\n",
            "n8   , aotus_nigriceps\t     , black_headed_night_monkey     , 133          , 27\n",
            "n9   , trachypithecus_johnii , nilgiri_langur                , 132          , 26\n",
            "\n",
            "\n",
            "\n",
            "\n",
            "\n",
            "\n",
            "\n",
            "\n",
            "\n",
            "\n",
            "\n",
            "\n",
            "\n"
          ],
          "name": "stdout"
        }
      ]
    },
    {
      "cell_type": "code",
      "metadata": {
        "id": "tkcUbVextvCu",
        "colab_type": "code",
        "colab": {}
      },
      "source": [
        "labels_latin = ['alouatta_palliata', \n",
        "          'erythrocebus_patas', \n",
        "          'cacajao_calvus', \n",
        "          'macaca_fuscata', \n",
        "          'cebuella_pygmea', \n",
        "          'cebus_capucinus', \n",
        "          'mico_argentatus', \n",
        "          'saimiri_sciureus', \n",
        "          'aotus_nigriceps', \n",
        "          'trachypithecus_johnii']\n",
        "\n",
        "labels_common = ['mantled_howler', \n",
        "                 'patas_monkey', \n",
        "                 'bald_uakari', \n",
        "                 'japanese_macaque',\n",
        "                 'pygmy_marmoset',\n",
        "                 'white_headed_capuchin',\n",
        "                 'silvery_marmoset',\n",
        "                 'common_squirrel_monkey',\n",
        "                 'black_headed_night_monkey',\n",
        "                 'nilgiri_langur']"
      ],
      "execution_count": 0,
      "outputs": []
    },
    {
      "cell_type": "code",
      "metadata": {
        "id": "AtPWPOVyukSd",
        "colab_type": "code",
        "outputId": "d52328b0-039a-411d-db0c-47980cbb3b7d",
        "colab": {
          "base_uri": "https://localhost:8080/",
          "height": 34
        }
      },
      "source": [
        "len(labels_common)"
      ],
      "execution_count": 11,
      "outputs": [
        {
          "output_type": "execute_result",
          "data": {
            "text/plain": [
              "10"
            ]
          },
          "metadata": {
            "tags": []
          },
          "execution_count": 11
        }
      ]
    },
    {
      "cell_type": "code",
      "metadata": {
        "id": "D02PJ0pKuwLX",
        "colab_type": "code",
        "outputId": "f136ec73-7754-494a-c827-7a7dd1d5e1da",
        "colab": {
          "base_uri": "https://localhost:8080/",
          "height": 34
        }
      },
      "source": [
        "len(labels_latin)"
      ],
      "execution_count": 12,
      "outputs": [
        {
          "output_type": "execute_result",
          "data": {
            "text/plain": [
              "10"
            ]
          },
          "metadata": {
            "tags": []
          },
          "execution_count": 12
        }
      ]
    },
    {
      "cell_type": "code",
      "metadata": {
        "id": "Fg9rkAX3uzry",
        "colab_type": "code",
        "outputId": "11b7b314-ac2b-4824-a080-8ee7b727d118",
        "colab": {
          "base_uri": "https://localhost:8080/",
          "height": 52
        }
      },
      "source": [
        "import keras_preprocessing\n",
        "from keras_preprocessing import image\n",
        "from keras_preprocessing.image import ImageDataGenerator\n",
        "\n",
        "training_datagen = ImageDataGenerator(\n",
        "    rescale = 1./255,\n",
        "    rotation_range=40,\n",
        "    width_shift_range=0.2,\n",
        "    height_shift_range=0.2,\n",
        "    shear_range=0.2,\n",
        "    zoom_range=0.2,\n",
        "    horizontal_flip=True,\n",
        "    fill_mode='nearest')\n",
        "\n",
        "train_generator = training_datagen.flow_from_directory(\n",
        "\ttraining_datadir,\n",
        "\ttarget_size=(200,200),\n",
        "\tclass_mode='categorical',\n",
        "    batch_size = 32\n",
        ")\n",
        "\n",
        "validation_datagen = ImageDataGenerator(\n",
        "    rescale = 1./255\n",
        ")\n",
        "\n",
        "validation_generator = validation_datagen.flow_from_directory(\n",
        "    validation_datadir,\n",
        "    target_size = (200,200),\n",
        "    class_mode='categorical',\n",
        "    batch_size=32\n",
        ")"
      ],
      "execution_count": 13,
      "outputs": [
        {
          "output_type": "stream",
          "text": [
            "Found 1098 images belonging to 10 classes.\n",
            "Found 272 images belonging to 10 classes.\n"
          ],
          "name": "stdout"
        }
      ]
    },
    {
      "cell_type": "code",
      "metadata": {
        "id": "of6r-XMRYBta",
        "colab_type": "code",
        "outputId": "f5e58988-263b-4216-e631-e9048f199f7f",
        "colab": {
          "base_uri": "https://localhost:8080/",
          "height": 34
        }
      },
      "source": [
        "import math\n",
        "math.ceil(34.3125)"
      ],
      "execution_count": 14,
      "outputs": [
        {
          "output_type": "execute_result",
          "data": {
            "text/plain": [
              "35"
            ]
          },
          "metadata": {
            "tags": []
          },
          "execution_count": 14
        }
      ]
    },
    {
      "cell_type": "code",
      "metadata": {
        "id": "9Wqzk8ziwpGl",
        "colab_type": "code",
        "colab": {}
      },
      "source": [
        "# model = tf.keras.models.Sequential([\n",
        "#     # Note the input shape is the desired size of the image 150x150 with 3 bytes color\n",
        "#     # This is the first convolution\n",
        "#     tf.keras.layers.Conv2D(64, (3,3), activation='relu', input_shape=(200, 200, 3)),\n",
        "#     tf.keras.layers.MaxPooling2D(2, 2),\n",
        "#     # The second convolution\n",
        "#     tf.keras.layers.Conv2D(64, (3,3), activation='relu'),\n",
        "#     tf.keras.layers.MaxPooling2D(2,2),\n",
        "#     # The third convolution\n",
        "#     tf.keras.layers.Conv2D(128, (3,3), activation='relu'),\n",
        "#     tf.keras.layers.MaxPooling2D(2,2),\n",
        "#     # The fourth convolution\n",
        "#     tf.keras.layers.Conv2D(128, (3,3), activation='relu'),\n",
        "#     tf.keras.layers.MaxPooling2D(2,2),\n",
        "#     # Flatten the results to feed into a DNN\n",
        "#     tf.keras.layers.Flatten(),\n",
        "#     tf.keras.layers.Dropout(0.5),\n",
        "#     # 512 neuron hidden layer\n",
        "#     tf.keras.layers.Dense(512, activation='relu'),\n",
        "#     tf.keras.layers.Dense(10, activation='softmax')\n",
        "# ])\n",
        "\n",
        "# model.summary()"
      ],
      "execution_count": 0,
      "outputs": []
    },
    {
      "cell_type": "code",
      "metadata": {
        "id": "T7KIqS8zYp3W",
        "colab_type": "code",
        "colab": {}
      },
      "source": [
        "# # Create a resolver\n",
        "# # Distribution strategies\n",
        "# resolver = tf.distribute.cluster_resolver.TPUClusterResolver(tpu='grpc://' + os.environ['COLAB_TPU_ADDR'])\n",
        "# tf.config.experimental_connect_to_cluster(resolver)\n",
        "# tf.tpu.experimental.initialize_tpu_system(resolver)\n",
        "\n",
        "# strategy = tf.distribute.experimental.TPUStrategy(resolver)"
      ],
      "execution_count": 0,
      "outputs": []
    },
    {
      "cell_type": "code",
      "metadata": {
        "id": "ySPKd70DUj5X",
        "colab_type": "code",
        "outputId": "31c768f0-77a6-4199-e939-5b6aa085a609",
        "colab": {
          "base_uri": "https://localhost:8080/",
          "height": 34
        }
      },
      "source": [
        "!ls"
      ],
      "execution_count": 17,
      "outputs": [
        {
          "output_type": "stream",
          "text": [
            "10-monkey-species.zip  monkey_labels.txt  sample_data  training  validation\n"
          ],
          "name": "stdout"
        }
      ]
    },
    {
      "cell_type": "code",
      "metadata": {
        "id": "XfYoYD6vf_Bs",
        "colab_type": "code",
        "outputId": "243cf9bd-0b13-411a-b69d-80070ad525b0",
        "colab": {
          "base_uri": "https://localhost:8080/",
          "height": 34
        }
      },
      "source": [
        "import os\n",
        "os.getcwd()"
      ],
      "execution_count": 18,
      "outputs": [
        {
          "output_type": "execute_result",
          "data": {
            "text/plain": [
              "'/content'"
            ]
          },
          "metadata": {
            "tags": []
          },
          "execution_count": 18
        }
      ]
    },
    {
      "cell_type": "code",
      "metadata": {
        "id": "9pezIADMgE8z",
        "colab_type": "code",
        "outputId": "4397fb5c-cb4f-471c-9bb8-3e785ca9a195",
        "colab": {
          "base_uri": "https://localhost:8080/",
          "height": 34
        }
      },
      "source": [
        "!ls"
      ],
      "execution_count": 19,
      "outputs": [
        {
          "output_type": "stream",
          "text": [
            "10-monkey-species.zip  monkey_labels.txt  sample_data  training  validation\n"
          ],
          "name": "stdout"
        }
      ]
    },
    {
      "cell_type": "code",
      "metadata": {
        "id": "SVc7kB3tXLzS",
        "colab_type": "code",
        "outputId": "650e94ff-c833-4554-ac90-65ca508c5f1e",
        "colab": {
          "base_uri": "https://localhost:8080/",
          "height": 1000
        }
      },
      "source": [
        "img_input = Input(shape=(200,200,3))\n",
        "\n",
        "conv2d_1 = Conv2D(64, (3,3), activation='relu', padding='valid', name='conv2d_1')(img_input)\n",
        "maxpool1 = MaxPooling2D(pool_size=(2,2))(conv2d_1)\n",
        "\n",
        "conv2d_2 = Conv2D(128, (3,3), activation='relu', padding='valid', name='conv2d_2')(maxpool1)\n",
        "\n",
        "conv2d_3 = Conv2D(128, (3,3), activation='relu', padding='valid', name='conv2d_3')(conv2d_2)\n",
        "maxpool1 = MaxPooling2D(pool_size=(2,2))(conv2d_3)\n",
        "\n",
        "conv2d_5 = Conv2D(128, (3,3), activation='relu', padding='valid', name='conv2d_5')(maxpool1)\n",
        "\n",
        "branch0 = Conv2D(64, (1,1), padding='same', name='Branch_Zero_1_by_1_Conv2D')(conv2d_5)\n",
        "\n",
        "branch1 = Conv2D(64, (1,1), activation='relu', padding='same', name='BranchOne3By3Conv2D1')(conv2d_5)\n",
        "branch1 = Conv2D(64, (3,3), activation='relu', padding='same', name='BranchOne3By3Conv2D2')(branch1)\n",
        "branch1 = Conv2D(32, kernel_size=(3, 3), strides=(1, 1), padding='same', activation='relu', name='BranchOne3By3Conv2D3')(branch1)\n",
        "\n",
        "concatenated_branchA = Concatenate()([branch0, branch1])\n",
        "concatination_activation = Activation('relu')(concatenated_branchA)\n",
        "\n",
        "pool0 = MaxPooling2D(pool_size=(2, 2))(concatination_activation)\n",
        "\n",
        "branch00 = Conv2D(64, (1,1), padding='same', name='BranchZeroZero1By1Conv2D')(pool0)\n",
        "\n",
        "branch11 = Conv2D(64, (1,1), activation='relu', padding='same', name='BranchOneOne3By3Conv2D1')(pool0)\n",
        "branch11 = Conv2D(64, (3,3), activation='relu', padding='same', name='BranchOneOne3By3Conv2D2')(branch11)\n",
        "branch11 = Conv2D(32, kernel_size=(3, 3), strides=(1, 1), padding='same', activation='relu', name='BranchOneOne3By3Conv2D3')(branch11)\n",
        "\n",
        "concatenated_branchB = Concatenate()([branch00, branch11])\n",
        "concatenation_activation_branchB = Activation('relu')(concatenated_branchB)\n",
        "\n",
        "flattened_before_dense = Flatten()(concatenation_activation_branchB)\n",
        "dense1 = Dense(1024, activation='relu', name='firstDenseLayer')(flattened_before_dense)\n",
        "dense2 = Dense(512, activation='relu', name='SecondDenseLayer')(dense1)\n",
        "dense3 = Dense(128, activation='relu', name='ThirdDenseLayer')(dense2)\n",
        "\n",
        "prediction_branch = Dense(10,activation='softmax', name='FinalSoftmaxLayer')(dense3)\n",
        "\n",
        "model = Model(inputs=img_input, outputs=prediction_branch)\n",
        "model.summary()"
      ],
      "execution_count": 20,
      "outputs": [
        {
          "output_type": "stream",
          "text": [
            "Model: \"model\"\n",
            "__________________________________________________________________________________________________\n",
            "Layer (type)                    Output Shape         Param #     Connected to                     \n",
            "==================================================================================================\n",
            "input_1 (InputLayer)            [(None, 200, 200, 3) 0                                            \n",
            "__________________________________________________________________________________________________\n",
            "conv2d_1 (Conv2D)               (None, 198, 198, 64) 1792        input_1[0][0]                    \n",
            "__________________________________________________________________________________________________\n",
            "max_pooling2d (MaxPooling2D)    (None, 99, 99, 64)   0           conv2d_1[0][0]                   \n",
            "__________________________________________________________________________________________________\n",
            "conv2d_2 (Conv2D)               (None, 97, 97, 128)  73856       max_pooling2d[0][0]              \n",
            "__________________________________________________________________________________________________\n",
            "conv2d_3 (Conv2D)               (None, 95, 95, 128)  147584      conv2d_2[0][0]                   \n",
            "__________________________________________________________________________________________________\n",
            "max_pooling2d_1 (MaxPooling2D)  (None, 47, 47, 128)  0           conv2d_3[0][0]                   \n",
            "__________________________________________________________________________________________________\n",
            "conv2d_5 (Conv2D)               (None, 45, 45, 128)  147584      max_pooling2d_1[0][0]            \n",
            "__________________________________________________________________________________________________\n",
            "BranchOne3By3Conv2D1 (Conv2D)   (None, 45, 45, 64)   8256        conv2d_5[0][0]                   \n",
            "__________________________________________________________________________________________________\n",
            "BranchOne3By3Conv2D2 (Conv2D)   (None, 45, 45, 64)   36928       BranchOne3By3Conv2D1[0][0]       \n",
            "__________________________________________________________________________________________________\n",
            "Branch_Zero_1_by_1_Conv2D (Conv (None, 45, 45, 64)   8256        conv2d_5[0][0]                   \n",
            "__________________________________________________________________________________________________\n",
            "BranchOne3By3Conv2D3 (Conv2D)   (None, 45, 45, 32)   18464       BranchOne3By3Conv2D2[0][0]       \n",
            "__________________________________________________________________________________________________\n",
            "concatenate (Concatenate)       (None, 45, 45, 96)   0           Branch_Zero_1_by_1_Conv2D[0][0]  \n",
            "                                                                 BranchOne3By3Conv2D3[0][0]       \n",
            "__________________________________________________________________________________________________\n",
            "activation (Activation)         (None, 45, 45, 96)   0           concatenate[0][0]                \n",
            "__________________________________________________________________________________________________\n",
            "max_pooling2d_2 (MaxPooling2D)  (None, 22, 22, 96)   0           activation[0][0]                 \n",
            "__________________________________________________________________________________________________\n",
            "BranchOneOne3By3Conv2D1 (Conv2D (None, 22, 22, 64)   6208        max_pooling2d_2[0][0]            \n",
            "__________________________________________________________________________________________________\n",
            "BranchOneOne3By3Conv2D2 (Conv2D (None, 22, 22, 64)   36928       BranchOneOne3By3Conv2D1[0][0]    \n",
            "__________________________________________________________________________________________________\n",
            "BranchZeroZero1By1Conv2D (Conv2 (None, 22, 22, 64)   6208        max_pooling2d_2[0][0]            \n",
            "__________________________________________________________________________________________________\n",
            "BranchOneOne3By3Conv2D3 (Conv2D (None, 22, 22, 32)   18464       BranchOneOne3By3Conv2D2[0][0]    \n",
            "__________________________________________________________________________________________________\n",
            "concatenate_1 (Concatenate)     (None, 22, 22, 96)   0           BranchZeroZero1By1Conv2D[0][0]   \n",
            "                                                                 BranchOneOne3By3Conv2D3[0][0]    \n",
            "__________________________________________________________________________________________________\n",
            "activation_1 (Activation)       (None, 22, 22, 96)   0           concatenate_1[0][0]              \n",
            "__________________________________________________________________________________________________\n",
            "flatten (Flatten)               (None, 46464)        0           activation_1[0][0]               \n",
            "__________________________________________________________________________________________________\n",
            "firstDenseLayer (Dense)         (None, 1024)         47580160    flatten[0][0]                    \n",
            "__________________________________________________________________________________________________\n",
            "SecondDenseLayer (Dense)        (None, 512)          524800      firstDenseLayer[0][0]            \n",
            "__________________________________________________________________________________________________\n",
            "ThirdDenseLayer (Dense)         (None, 128)          65664       SecondDenseLayer[0][0]           \n",
            "__________________________________________________________________________________________________\n",
            "FinalSoftmaxLayer (Dense)       (None, 10)           1290        ThirdDenseLayer[0][0]            \n",
            "==================================================================================================\n",
            "Total params: 48,682,442\n",
            "Trainable params: 48,682,442\n",
            "Non-trainable params: 0\n",
            "__________________________________________________________________________________________________\n"
          ],
          "name": "stdout"
        }
      ]
    },
    {
      "cell_type": "code",
      "metadata": {
        "id": "XArmSDTjvUW-",
        "colab_type": "code",
        "outputId": "4acef8e7-efb9-4879-8d6d-d96eb4118e44",
        "colab": {
          "base_uri": "https://localhost:8080/",
          "height": 1000
        }
      },
      "source": [
        "learning_rate, epochs = 0.001, 30\n",
        "\n",
        "# compile our model\n",
        "print(\"compiling model...\")\n",
        "model.compile(loss=\"categorical_crossentropy\", \n",
        "              \t\t   optimizer=Adam(lr=learning_rate, decay=learning_rate / epochs), \n",
        "\t\t\t           metrics=[\"accuracy\"])\n",
        "\n",
        "print(\"Model Compiled Successfully\")\n",
        "print(\"[SUMMARY]:\")\n",
        "print(model.summary())"
      ],
      "execution_count": 21,
      "outputs": [
        {
          "output_type": "stream",
          "text": [
            "compiling model...\n",
            "Model Compiled Successfully\n",
            "[SUMMARY]:\n",
            "Model: \"model\"\n",
            "__________________________________________________________________________________________________\n",
            "Layer (type)                    Output Shape         Param #     Connected to                     \n",
            "==================================================================================================\n",
            "input_1 (InputLayer)            [(None, 200, 200, 3) 0                                            \n",
            "__________________________________________________________________________________________________\n",
            "conv2d_1 (Conv2D)               (None, 198, 198, 64) 1792        input_1[0][0]                    \n",
            "__________________________________________________________________________________________________\n",
            "max_pooling2d (MaxPooling2D)    (None, 99, 99, 64)   0           conv2d_1[0][0]                   \n",
            "__________________________________________________________________________________________________\n",
            "conv2d_2 (Conv2D)               (None, 97, 97, 128)  73856       max_pooling2d[0][0]              \n",
            "__________________________________________________________________________________________________\n",
            "conv2d_3 (Conv2D)               (None, 95, 95, 128)  147584      conv2d_2[0][0]                   \n",
            "__________________________________________________________________________________________________\n",
            "max_pooling2d_1 (MaxPooling2D)  (None, 47, 47, 128)  0           conv2d_3[0][0]                   \n",
            "__________________________________________________________________________________________________\n",
            "conv2d_5 (Conv2D)               (None, 45, 45, 128)  147584      max_pooling2d_1[0][0]            \n",
            "__________________________________________________________________________________________________\n",
            "BranchOne3By3Conv2D1 (Conv2D)   (None, 45, 45, 64)   8256        conv2d_5[0][0]                   \n",
            "__________________________________________________________________________________________________\n",
            "BranchOne3By3Conv2D2 (Conv2D)   (None, 45, 45, 64)   36928       BranchOne3By3Conv2D1[0][0]       \n",
            "__________________________________________________________________________________________________\n",
            "Branch_Zero_1_by_1_Conv2D (Conv (None, 45, 45, 64)   8256        conv2d_5[0][0]                   \n",
            "__________________________________________________________________________________________________\n",
            "BranchOne3By3Conv2D3 (Conv2D)   (None, 45, 45, 32)   18464       BranchOne3By3Conv2D2[0][0]       \n",
            "__________________________________________________________________________________________________\n",
            "concatenate (Concatenate)       (None, 45, 45, 96)   0           Branch_Zero_1_by_1_Conv2D[0][0]  \n",
            "                                                                 BranchOne3By3Conv2D3[0][0]       \n",
            "__________________________________________________________________________________________________\n",
            "activation (Activation)         (None, 45, 45, 96)   0           concatenate[0][0]                \n",
            "__________________________________________________________________________________________________\n",
            "max_pooling2d_2 (MaxPooling2D)  (None, 22, 22, 96)   0           activation[0][0]                 \n",
            "__________________________________________________________________________________________________\n",
            "BranchOneOne3By3Conv2D1 (Conv2D (None, 22, 22, 64)   6208        max_pooling2d_2[0][0]            \n",
            "__________________________________________________________________________________________________\n",
            "BranchOneOne3By3Conv2D2 (Conv2D (None, 22, 22, 64)   36928       BranchOneOne3By3Conv2D1[0][0]    \n",
            "__________________________________________________________________________________________________\n",
            "BranchZeroZero1By1Conv2D (Conv2 (None, 22, 22, 64)   6208        max_pooling2d_2[0][0]            \n",
            "__________________________________________________________________________________________________\n",
            "BranchOneOne3By3Conv2D3 (Conv2D (None, 22, 22, 32)   18464       BranchOneOne3By3Conv2D2[0][0]    \n",
            "__________________________________________________________________________________________________\n",
            "concatenate_1 (Concatenate)     (None, 22, 22, 96)   0           BranchZeroZero1By1Conv2D[0][0]   \n",
            "                                                                 BranchOneOne3By3Conv2D3[0][0]    \n",
            "__________________________________________________________________________________________________\n",
            "activation_1 (Activation)       (None, 22, 22, 96)   0           concatenate_1[0][0]              \n",
            "__________________________________________________________________________________________________\n",
            "flatten (Flatten)               (None, 46464)        0           activation_1[0][0]               \n",
            "__________________________________________________________________________________________________\n",
            "firstDenseLayer (Dense)         (None, 1024)         47580160    flatten[0][0]                    \n",
            "__________________________________________________________________________________________________\n",
            "SecondDenseLayer (Dense)        (None, 512)          524800      firstDenseLayer[0][0]            \n",
            "__________________________________________________________________________________________________\n",
            "ThirdDenseLayer (Dense)         (None, 128)          65664       SecondDenseLayer[0][0]           \n",
            "__________________________________________________________________________________________________\n",
            "FinalSoftmaxLayer (Dense)       (None, 10)           1290        ThirdDenseLayer[0][0]            \n",
            "==================================================================================================\n",
            "Total params: 48,682,442\n",
            "Trainable params: 48,682,442\n",
            "Non-trainable params: 0\n",
            "__________________________________________________________________________________________________\n",
            "None\n"
          ],
          "name": "stdout"
        }
      ]
    },
    {
      "cell_type": "code",
      "metadata": {
        "id": "2tDgTz_gxfJ3",
        "colab_type": "code",
        "outputId": "f7de8499-4f5d-4c3f-dae9-01b1c297a42b",
        "colab": {
          "base_uri": "https://localhost:8080/",
          "height": 1000
        }
      },
      "source": [
        "history = model.fit(train_generator, \n",
        "                    epochs=epochs, \n",
        "                    steps_per_epoch=35, \n",
        "                    validation_data = validation_generator, \n",
        "                    verbose = 1, \n",
        "                    validation_steps=35)"
      ],
      "execution_count": 22,
      "outputs": [
        {
          "output_type": "stream",
          "text": [
            "Epoch 1/30\n",
            "35/35 [==============================] - 67s 2s/step - loss: 2.3170 - accuracy: 0.1102 - val_loss: 2.3025 - val_accuracy: 0.1101\n",
            "Epoch 2/30\n",
            "35/35 [==============================] - 68s 2s/step - loss: 2.3076 - accuracy: 0.1047 - val_loss: 2.3011 - val_accuracy: 0.1045\n",
            "Epoch 3/30\n",
            "35/35 [==============================] - 68s 2s/step - loss: 2.2779 - accuracy: 0.1512 - val_loss: 2.3004 - val_accuracy: 0.1026\n",
            "Epoch 4/30\n",
            "35/35 [==============================] - 67s 2s/step - loss: 2.2066 - accuracy: 0.1831 - val_loss: 2.1380 - val_accuracy: 0.2593\n",
            "Epoch 5/30\n",
            "35/35 [==============================] - 68s 2s/step - loss: 2.0938 - accuracy: 0.2149 - val_loss: 2.0660 - val_accuracy: 0.2080\n",
            "Epoch 6/30\n",
            "35/35 [==============================] - 69s 2s/step - loss: 2.1056 - accuracy: 0.2240 - val_loss: 2.0746 - val_accuracy: 0.2771\n",
            "Epoch 7/30\n",
            "35/35 [==============================] - 69s 2s/step - loss: 2.0226 - accuracy: 0.2568 - val_loss: 1.9423 - val_accuracy: 0.3144\n",
            "Epoch 8/30\n",
            "35/35 [==============================] - 68s 2s/step - loss: 2.0143 - accuracy: 0.2632 - val_loss: 2.0728 - val_accuracy: 0.2211\n",
            "Epoch 9/30\n",
            "35/35 [==============================] - 68s 2s/step - loss: 1.9869 - accuracy: 0.2605 - val_loss: 1.9438 - val_accuracy: 0.2724\n",
            "Epoch 10/30\n",
            "35/35 [==============================] - 69s 2s/step - loss: 1.9096 - accuracy: 0.3005 - val_loss: 1.9495 - val_accuracy: 0.3004\n",
            "Epoch 11/30\n",
            "35/35 [==============================] - 68s 2s/step - loss: 1.9163 - accuracy: 0.2851 - val_loss: 1.9008 - val_accuracy: 0.2976\n",
            "Epoch 12/30\n",
            "35/35 [==============================] - 68s 2s/step - loss: 1.8279 - accuracy: 0.3197 - val_loss: 1.7876 - val_accuracy: 0.3843\n",
            "Epoch 13/30\n",
            "35/35 [==============================] - 69s 2s/step - loss: 1.7712 - accuracy: 0.3561 - val_loss: 1.6436 - val_accuracy: 0.4095\n",
            "Epoch 14/30\n",
            "35/35 [==============================] - 67s 2s/step - loss: 1.6494 - accuracy: 0.4107 - val_loss: 1.5817 - val_accuracy: 0.4142\n",
            "Epoch 15/30\n",
            "35/35 [==============================] - 69s 2s/step - loss: 1.5834 - accuracy: 0.4226 - val_loss: 1.3995 - val_accuracy: 0.5252\n",
            "Epoch 16/30\n",
            "35/35 [==============================] - 68s 2s/step - loss: 1.5083 - accuracy: 0.4545 - val_loss: 1.4190 - val_accuracy: 0.4972\n",
            "Epoch 17/30\n",
            "35/35 [==============================] - 67s 2s/step - loss: 1.4331 - accuracy: 0.4681 - val_loss: 1.3632 - val_accuracy: 0.5354\n",
            "Epoch 18/30\n",
            "35/35 [==============================] - 68s 2s/step - loss: 1.4068 - accuracy: 0.4781 - val_loss: 1.2745 - val_accuracy: 0.5261\n",
            "Epoch 19/30\n",
            "35/35 [==============================] - 66s 2s/step - loss: 1.3061 - accuracy: 0.5082 - val_loss: 1.1712 - val_accuracy: 0.5662\n",
            "Epoch 20/30\n",
            "35/35 [==============================] - 67s 2s/step - loss: 1.2822 - accuracy: 0.5191 - val_loss: 1.1777 - val_accuracy: 0.5597\n",
            "Epoch 21/30\n",
            "35/35 [==============================] - 67s 2s/step - loss: 1.3288 - accuracy: 0.5137 - val_loss: 1.4344 - val_accuracy: 0.5121\n",
            "Epoch 22/30\n",
            "35/35 [==============================] - 66s 2s/step - loss: 1.3210 - accuracy: 0.5228 - val_loss: 1.2018 - val_accuracy: 0.5578\n",
            "Epoch 23/30\n",
            "35/35 [==============================] - 66s 2s/step - loss: 1.2222 - accuracy: 0.5592 - val_loss: 1.2053 - val_accuracy: 0.5634\n",
            "Epoch 24/30\n",
            "35/35 [==============================] - 67s 2s/step - loss: 1.2103 - accuracy: 0.5546 - val_loss: 1.2185 - val_accuracy: 0.5709\n",
            "Epoch 25/30\n",
            "35/35 [==============================] - 68s 2s/step - loss: 1.1554 - accuracy: 0.5638 - val_loss: 1.0564 - val_accuracy: 0.6353\n",
            "Epoch 26/30\n",
            "35/35 [==============================] - 66s 2s/step - loss: 1.0663 - accuracy: 0.6029 - val_loss: 1.0517 - val_accuracy: 0.6213\n",
            "Epoch 27/30\n",
            "35/35 [==============================] - 65s 2s/step - loss: 1.1815 - accuracy: 0.5683 - val_loss: 1.0516 - val_accuracy: 0.6213\n",
            "Epoch 28/30\n",
            "35/35 [==============================] - 66s 2s/step - loss: 1.0752 - accuracy: 0.5874 - val_loss: 1.0412 - val_accuracy: 0.6231\n",
            "Epoch 29/30\n",
            "35/35 [==============================] - 67s 2s/step - loss: 0.9878 - accuracy: 0.6466 - val_loss: 1.0035 - val_accuracy: 0.6576\n",
            "Epoch 30/30\n",
            "35/35 [==============================] - 68s 2s/step - loss: 0.9991 - accuracy: 0.6230 - val_loss: 0.9946 - val_accuracy: 0.6828\n"
          ],
          "name": "stdout"
        }
      ]
    },
    {
      "cell_type": "code",
      "metadata": {
        "id": "Asb3wpzz--u7",
        "colab_type": "code",
        "colab": {}
      },
      "source": [
        "from tensorflow.keras.utils import plot_model\n",
        "plot_model(model , 'MonkeyNet.png' , show_shapes=True)"
      ],
      "execution_count": 0,
      "outputs": []
    },
    {
      "cell_type": "code",
      "metadata": {
        "id": "iRvi0_jO_MSx",
        "colab_type": "code",
        "colab": {}
      },
      "source": [
        "from google.colab import files\n",
        "files.download('MonkeyNet.png')"
      ],
      "execution_count": 0,
      "outputs": []
    },
    {
      "cell_type": "code",
      "metadata": {
        "id": "ChRxa7Ume35d",
        "colab_type": "code",
        "colab": {}
      },
      "source": [
        "from google.colab import drive\n",
        "drive.mount('/content/drive')\n",
        "\n",
        "!pip install -U -q PyDrive\n",
        "from pydrive.auth import GoogleAuth\n",
        "from pydrive.drive import GoogleDrive \n",
        "from google.colab import auth \n",
        "from oauth2client.client import GoogleCredentials\n",
        "\n",
        "auth.authenticate_user()\n",
        "gauth = GoogleAuth()\n",
        "gauth.credentials = GoogleCredentials.get_application_default()                       \n",
        "drive = GoogleDrive(gauth)\n",
        "\n",
        "model.save('MonkeyNet.h5')\n",
        "model_file = drive.CreateFile({'MonkeyNet' : 'MonkeyNet.h5'})                       \n",
        "model_file.SetContentFile('MonkeyNet.h5')                       \n",
        "model_file.Upload()"
      ],
      "execution_count": 0,
      "outputs": []
    },
    {
      "cell_type": "code",
      "metadata": {
        "id": "9kbrEfwpxsQR",
        "colab_type": "code",
        "outputId": "73c5ca18-bdf6-4a77-b89c-5dff2bfc77bc",
        "colab": {
          "base_uri": "https://localhost:8080/",
          "height": 545
        }
      },
      "source": [
        "acc = history.history['accuracy']\n",
        "val_acc = history.history['val_accuracy']\n",
        "loss = history.history['loss']\n",
        "val_loss = history.history['val_loss']\n",
        "epochs = range(1, len(acc) + 1)\n",
        "\n",
        "plt.title('Training and validation accuracy')\n",
        "plt.plot(epochs, acc, 'red', label='Training acc')\n",
        "plt.plot(epochs, val_acc, 'blue', label='Validation acc')\n",
        "plt.legend()\n",
        "\n",
        "plt.figure()\n",
        "plt.title('Training and validation loss')\n",
        "plt.plot(epochs, loss, 'red', label='Training loss')\n",
        "plt.plot(epochs, val_loss, 'blue', label='Validation loss')\n",
        "\n",
        "plt.legend()\n",
        "\n",
        "plt.show()"
      ],
      "execution_count": 0,
      "outputs": [
        {
          "output_type": "display_data",
          "data": {
            "image/png": "[encoded data removed]",
            "text/plain": [
              "<Figure size 432x288 with 1 Axes>"
            ]
          },
          "metadata": {
            "tags": [],
            "needs_background": "light"
          }
        },
        {
          "output_type": "display_data",
          "data": {
            "image/png": "[encoded data removed]",
            "text/plain": [
              "<Figure size 432x288 with 1 Axes>"
            ]
          },
          "metadata": {
            "tags": [],
            "needs_background": "light"
          }
        }
      ]
    },
    {
      "cell_type": "code",
      "metadata": {
        "id": "EBuLD-Qm0zaK",
        "colab_type": "code",
        "colab": {}
      },
      "source": [
        ""
      ],
      "execution_count": 0,
      "outputs": []
    }
  ]
}