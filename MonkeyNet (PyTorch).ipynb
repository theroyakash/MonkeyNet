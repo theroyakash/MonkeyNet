{
 "cells": [
  {
   "cell_type": "code",
   "execution_count": 1,
   "metadata": {},
   "outputs": [],
   "source": [
    "import torch\n",
    "import torch.nn as nn\n",
    "import torch.nn.functional as F\n",
    "import torch.optim as optim"
   ]
  },
  {
   "cell_type": "code",
   "execution_count": 3,
   "metadata": {},
   "outputs": [],
   "source": [
    "import random\n",
    "import numpy as np\n",
    "import matplotlib.pyplot as plt\n",
    "\n",
    "# set seeds to reproduce results\n",
    "torch.manual_seed(1234)\n",
    "np.random.seed(1234)\n",
    "random.seed(1234)"
   ]
  },
  {
   "cell_type": "code",
   "execution_count": 11,
   "metadata": {},
   "outputs": [],
   "source": [
    "label_dictionary = {\n",
    "    \n",
    "    \"n0\":\"mantled_howler\",\n",
    "    \"n1\":\"patas_monkey\",\n",
    "    \"n2\":\"bald_uakari\",\n",
    "    \"n3\":\"japanese_macaque\",\n",
    "    \"n4\":\"pygmy_marmoset\",\n",
    "    \"n5\":\"white_headed_capuchin\",\n",
    "    \"n6\":\"silvery_marmoset\",\n",
    "    \"n7\":\"common_squirrel_monkey\",\n",
    "    \"n8\":\"black_headed_night_monkey\",\t\n",
    "    \"n9\":\"nilgiri_langur\"\n",
    "}\n",
    "\n",
    "\n",
    "categories = {\n",
    "    \n",
    "    \"mantled_howler\":0,\n",
    "    \"patas_monkey\":1,\n",
    "    \"bald_uakari\":2,\n",
    "    \"japanese_macaque\":3,\n",
    "    \"pygmy_marmoset\":4,\n",
    "    \"white_headed_capuchin\":5,\n",
    "    \"silvery_marmoset\":6,\n",
    "    \"common_squirrel_monkey\":7,\n",
    "    \"black_headed_night_monkey\":8,\n",
    "    \"nilgiri_langur\":9\n",
    "}"
   ]
  },
  {
   "cell_type": "code",
   "execution_count": 5,
   "metadata": {},
   "outputs": [],
   "source": [
    "class ImageTransform():\n",
    "    '''\n",
    "    This is image transform class. This class's action differs depending on the 'train' or 'val'. \n",
    "    It resize image size and normarize image color.\n",
    "        Attributes:\n",
    "            - resize (int): img size after resize\n",
    "            - mean: (R,G,B) average of each channel\n",
    "            - std : (R,G,B) standard deviation of each channel\n",
    "    '''\n",
    "    \n",
    "    def __init__(self,resize,mean,std):\n",
    "        self.data_transform = {\n",
    "            'train':transforms.Compose([\n",
    "                transforms.RandomResizedCrop(resize,scale=(0.5,1.0)),\n",
    "                transforms.RandomHorizontalFlip(),\n",
    "                transforms.ToTensor(),\n",
    "                transforms.Normalize(mean,std)\n",
    "            ]),\n",
    "            'val':transforms.Compose([\n",
    "                transforms.Resize(resize),\n",
    "                transforms.CenterCrop(resize),\n",
    "                transforms.ToTensor(),\n",
    "                transforms.Normalize(mean,std)\n",
    "            ])\n",
    "        }\n",
    "\n",
    "    def __call__(self,img,phase='train'):\n",
    "        return self.data_transform[phase](img)"
   ]
  },
  {
   "cell_type": "code",
   "execution_count": 6,
   "metadata": {},
   "outputs": [],
   "source": [
    "# make data path list\n",
    "\n",
    "def make_datapath_list(phase):\n",
    "    rootpath = '/contents/10-monkey-species/'\n",
    "    target_path = os.join(rootpath+phase+'/**/**/*.jpg')\n",
    "    path_list = []\n",
    "    for path in glob.glob(target_path):\n",
    "        path_list.append(path)    \n",
    "    return path_list"
   ]
  },
  {
   "cell_type": "code",
   "execution_count": 7,
   "metadata": {
    "collapsed": true,
    "jupyter": {
     "outputs_hidden": true
    }
   },
   "outputs": [
    {
     "ename": "NameError",
     "evalue": "name 'osp' is not defined",
     "output_type": "error",
     "traceback": [
      "\u001b[0;31m---------------------------------------------------------------------------\u001b[0m",
      "\u001b[0;31mNameError\u001b[0m                                 Traceback (most recent call last)",
      "\u001b[0;32m<ipython-input-7-7ac1a7620954>\u001b[0m in \u001b[0;36m<module>\u001b[0;34m\u001b[0m\n\u001b[0;32m----> 1\u001b[0;31m \u001b[0mtrain_list\u001b[0m \u001b[0;34m=\u001b[0m \u001b[0mmake_datapath_list\u001b[0m\u001b[0;34m(\u001b[0m\u001b[0mphase\u001b[0m\u001b[0;34m=\u001b[0m\u001b[0;34m'training'\u001b[0m\u001b[0;34m)\u001b[0m\u001b[0;34m\u001b[0m\u001b[0;34m\u001b[0m\u001b[0m\n\u001b[0m\u001b[1;32m      2\u001b[0m \u001b[0mval_list\u001b[0m \u001b[0;34m=\u001b[0m \u001b[0mmake_datapath_list\u001b[0m\u001b[0;34m(\u001b[0m\u001b[0mphase\u001b[0m\u001b[0;34m=\u001b[0m\u001b[0;34m'validation'\u001b[0m\u001b[0;34m)\u001b[0m\u001b[0;34m\u001b[0m\u001b[0;34m\u001b[0m\u001b[0m\n",
      "\u001b[0;32m<ipython-input-6-7e1b4a3e8a79>\u001b[0m in \u001b[0;36mmake_datapath_list\u001b[0;34m(phase)\u001b[0m\n\u001b[1;32m      3\u001b[0m \u001b[0;32mdef\u001b[0m \u001b[0mmake_datapath_list\u001b[0m\u001b[0;34m(\u001b[0m\u001b[0mphase\u001b[0m\u001b[0;34m)\u001b[0m\u001b[0;34m:\u001b[0m\u001b[0;34m\u001b[0m\u001b[0;34m\u001b[0m\u001b[0m\n\u001b[1;32m      4\u001b[0m     \u001b[0mrootpath\u001b[0m \u001b[0;34m=\u001b[0m \u001b[0;34m'/contents/10-monkey-species/'\u001b[0m\u001b[0;34m\u001b[0m\u001b[0;34m\u001b[0m\u001b[0m\n\u001b[0;32m----> 5\u001b[0;31m     \u001b[0mtarget_path\u001b[0m \u001b[0;34m=\u001b[0m \u001b[0mosp\u001b[0m\u001b[0;34m.\u001b[0m\u001b[0mjoin\u001b[0m\u001b[0;34m(\u001b[0m\u001b[0mrootpath\u001b[0m\u001b[0;34m+\u001b[0m\u001b[0mphase\u001b[0m\u001b[0;34m+\u001b[0m\u001b[0;34m'/**/**/*.jpg'\u001b[0m\u001b[0;34m)\u001b[0m\u001b[0;34m\u001b[0m\u001b[0;34m\u001b[0m\u001b[0m\n\u001b[0m\u001b[1;32m      6\u001b[0m     \u001b[0mpath_list\u001b[0m \u001b[0;34m=\u001b[0m \u001b[0;34m[\u001b[0m\u001b[0;34m]\u001b[0m\u001b[0;34m\u001b[0m\u001b[0;34m\u001b[0m\u001b[0m\n\u001b[1;32m      7\u001b[0m     \u001b[0;32mfor\u001b[0m \u001b[0mpath\u001b[0m \u001b[0;32min\u001b[0m \u001b[0mglob\u001b[0m\u001b[0;34m.\u001b[0m\u001b[0mglob\u001b[0m\u001b[0;34m(\u001b[0m\u001b[0mtarget_path\u001b[0m\u001b[0;34m)\u001b[0m\u001b[0;34m:\u001b[0m\u001b[0;34m\u001b[0m\u001b[0;34m\u001b[0m\u001b[0m\n",
      "\u001b[0;31mNameError\u001b[0m: name 'osp' is not defined"
     ]
    }
   ],
   "source": [
    "train_list = make_datapath_list(phase='training')\n",
    "val_list = make_datapath_list(phase='validation')"
   ]
  },
  {
   "cell_type": "code",
   "execution_count": 10,
   "metadata": {},
   "outputs": [],
   "source": [
    "class Dataset(torch.utils.data.Dataset):\n",
    "    '''\n",
    "    Dataset class.\n",
    "        Attributes:\n",
    "            - file_list:list data path list\n",
    "            - transform: object ImageTransform object\n",
    "            - phase: 'train' or 'val'\n",
    "    '''\n",
    "    def __init__(self,file_list,transform=None,phase='train'):\n",
    "        self.file_list = file_list\n",
    "        self.transform = transform\n",
    "        self.phase = phase\n",
    "    \n",
    "    def __len__(self):\n",
    "        return len(self.file_list)\n",
    "    \n",
    "    def __getitem__(self,index):\n",
    "        '''\n",
    "        get after preprocessing image tensor and label \n",
    "        '''\n",
    "        # \n",
    "        img_path = self.file_list[index]\n",
    "        img = Image.open(img_path) \n",
    "\n",
    "        # preprocessing\n",
    "        img_transformed = self.transform(img,self.phase) # torch.Size([3,224,224])\n",
    "\n",
    "        # get image label from file name\n",
    "        arr = img_path.split('/')\n",
    "        label = arr[-2]\n",
    "        name = label2name[label]\n",
    "\n",
    "        # transform label to number\n",
    "        label_num = name2id[name]\n",
    "\n",
    "        return img_transformed,label_num"
   ]
  },
  {
   "cell_type": "code",
   "execution_count": 1,
   "metadata": {},
   "outputs": [],
   "source": []
  },
  {
   "cell_type": "code",
   "execution_count": 7,
   "metadata": {},
   "outputs": [
    {
     "name": "stderr",
     "output_type": "stream",
     "text": [
      "100%|██████████| 999999/999999 [00:00<00:00, 3107758.92it/s]\n"
     ]
    }
   ],
   "source": [
    "from tqdm import tqdm\n",
    "\n",
    "for i in tqdm(range(1,1000000)):\n",
    "    pass"
   ]
  },
  {
   "cell_type": "code",
   "execution_count": null,
   "metadata": {},
   "outputs": [],
   "source": []
  }
 ],
 "metadata": {
  "kernelspec": {
   "display_name": "Python 3",
   "language": "python",
   "name": "python3"
  },
  "language_info": {
   "codemirror_mode": {
    "name": "ipython",
    "version": 3
   },
   "file_extension": ".py",
   "mimetype": "text/x-python",
   "name": "python",
   "nbconvert_exporter": "python",
   "pygments_lexer": "ipython3",
   "version": "3.8.5"
  }
 },
 "nbformat": 4,
 "nbformat_minor": 4
}
